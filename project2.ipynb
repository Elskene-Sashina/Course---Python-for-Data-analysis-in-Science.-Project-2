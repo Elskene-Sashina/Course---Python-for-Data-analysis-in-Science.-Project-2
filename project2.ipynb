{
 "cells": [
  {
   "cell_type": "code",
   "execution_count": 17,
   "id": "b86cd486-ed85-4a32-a5b7-ad2941b9aef5",
   "metadata": {
    "scrolled": true
   },
   "outputs": [
    {
     "name": "stdout",
     "output_type": "stream",
     "text": [
      "Collecting python-LevenshteinNote: you may need to restart the kernel to use updated packages.\n",
      "\n",
      "  Downloading python_Levenshtein-0.25.1-py3-none-any.whl.metadata (3.7 kB)\n",
      "Requirement already satisfied: Levenshtein==0.25.1 in c:\\users\\user\\anaconda3\\lib\\site-packages (from python-Levenshtein) (0.25.1)\n",
      "Requirement already satisfied: rapidfuzz<4.0.0,>=3.8.0 in c:\\users\\user\\anaconda3\\lib\\site-packages (from Levenshtein==0.25.1->python-Levenshtein) (3.9.6)\n",
      "Downloading python_Levenshtein-0.25.1-py3-none-any.whl (9.4 kB)\n",
      "Installing collected packages: python-Levenshtein\n",
      "Successfully installed python-Levenshtein-0.25.1\n"
     ]
    }
   ],
   "source": [
    "#IMPORT MODEL\n",
    "%pip install python-Levenshtein"
   ]
  },
  {
   "cell_type": "code",
   "execution_count": 3,
   "id": "17a092de-dba6-462a-a272-dacb510b875e",
   "metadata": {},
   "outputs": [],
   "source": [
    "#IMPORT MODEL\n",
    "from Levenshtein import distance as lev\n",
    "from Bio import SeqIO\n",
    "import numpy as np\n",
    "import matplotlib.pyplot as plt\n",
    "import seaborn as sns"
   ]
  },
  {
   "cell_type": "code",
   "execution_count": 2,
   "id": "6e0bd2b5-74d3-4434-8828-66d94ff22af5",
   "metadata": {},
   "outputs": [
    {
     "ename": "SyntaxError",
     "evalue": "unterminated string literal (detected at line 33) (3322859564.py, line 33)",
     "output_type": "error",
     "traceback": [
      "\u001b[1;36m  Cell \u001b[1;32mIn[2], line 33\u001b[1;36m\u001b[0m\n\u001b[1;33m    resulting_function('\u001b[0m\n\u001b[1;37m                       ^\u001b[0m\n\u001b[1;31mSyntaxError\u001b[0m\u001b[1;31m:\u001b[0m unterminated string literal (detected at line 33)\n"
     ]
    }
   ],
   "source": [
    "#OPEN FILE\n",
    "def open_file(file):\n",
    "    sequences = []\n",
    "    with open(file) as file:\n",
    "        reads = SeqIO.parse(file, format = \"fasta\")\n",
    "        for read in reads:\n",
    "          sequences.append(str(read.seq))\n",
    "    return sequences\n",
    "\n",
    "#CALCULATE LEVENSHTEIN DISTANCE\n",
    "def calculate_distance_matrix(sequences):\n",
    "    n = len(sequences)\n",
    "    distance_matrix = np.zeros((n, n))\n",
    "    for i in range(n):\n",
    "        for j in range(n):\n",
    "            distance_matrix[i, j] = lev(sequences[i], sequences[j])\n",
    "    return distance_matrix\n",
    "\n",
    "def visualize_heatmap(distance_matrix):\n",
    "    plt.figure()\n",
    "    sns.heatmap(distance_matrix, annot=True)\n",
    "    plt.title(\"Levenshtein Distance Matrix\")\n",
    "    plt.show()\n",
    "\n",
    "#MAKE IT WORK\n",
    "def resulting_function(file):\n",
    "    sequences = open_file(file)\n",
    "    calculate_distance_matrix(sequences)\n",
    "    distance_matrix = visualize_heatmap(distance_matrix)\n",
    "\n",
    "\n",
    "#TRY\n",
    "resulting_function(' \n",
    "                   #PUT HERE YOUR FASTA FILE\n",
    "                   ')"
   ]
  },
  {
   "cell_type": "code",
   "execution_count": null,
   "id": "ca489dc9-37cd-4ca2-bc67-475b9ab6be02",
   "metadata": {},
   "outputs": [],
   "source": []
  }
 ],
 "metadata": {
  "kernelspec": {
   "display_name": "Python 3 (ipykernel)",
   "language": "python",
   "name": "python3"
  },
  "language_info": {
   "codemirror_mode": {
    "name": "ipython",
    "version": 3
   },
   "file_extension": ".py",
   "mimetype": "text/x-python",
   "name": "python",
   "nbconvert_exporter": "python",
   "pygments_lexer": "ipython3",
   "version": "3.11.7"
  }
 },
 "nbformat": 4,
 "nbformat_minor": 5
}
